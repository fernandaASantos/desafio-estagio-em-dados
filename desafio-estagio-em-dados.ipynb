{
 "cells": [
  {
   "cell_type": "code",
   "execution_count": 1,
   "id": "41d09d88",
   "metadata": {
    "_cell_guid": "b1076dfc-b9ad-4769-8c92-a6c4dae69d19",
    "_uuid": "8f2839f25d086af736a60e9eeb907d3b93b6e0e5",
    "execution": {
     "iopub.execute_input": "2021-11-05T03:47:53.797138Z",
     "iopub.status.busy": "2021-11-05T03:47:53.795402Z",
     "iopub.status.idle": "2021-11-05T03:47:53.819373Z",
     "shell.execute_reply": "2021-11-05T03:47:53.819960Z",
     "shell.execute_reply.started": "2021-11-05T03:10:16.733143Z"
    },
    "papermill": {
     "duration": 0.050452,
     "end_time": "2021-11-05T03:47:53.820256",
     "exception": false,
     "start_time": "2021-11-05T03:47:53.769804",
     "status": "completed"
    },
    "tags": []
   },
   "outputs": [
    {
     "name": "stdout",
     "output_type": "stream",
     "text": [
      "/kaggle/input/customersrating/customers_rating.csv\n",
      "/kaggle/input/movies/movies.csv\n"
     ]
    }
   ],
   "source": [
    "# This Python 3 environment comes with many helpful analytics libraries installed\n",
    "# It is defined by the kaggle/python Docker image: https://github.com/kaggle/docker-python\n",
    "# For example, here's several helpful packages to load\n",
    "\n",
    "import pandas as pd # data processing, CSV file I/O (e.g. pd.read_csv)\n",
    "\n",
    "# Input data files are available in the read-only \"../input/\" directory\n",
    "# For example, running this (by clicking run or pressing Shift+Enter) will list all files under the input directory\n",
    "\n",
    "import os\n",
    "for dirname, _, filenames in os.walk('/kaggle/input'):\n",
    "    for filename in filenames:\n",
    "        print(os.path.join(dirname, filename))\n",
    "\n",
    "# You can write up to 20GB to the current directory (/kaggle/working/) that gets preserved as output when you create a version using \"Save & Run All\" \n",
    "# You can also write temporary files to /kaggle/temp/, but they won't be saved outside of the current session"
   ]
  },
  {
   "cell_type": "markdown",
   "id": "55730597",
   "metadata": {
    "papermill": {
     "duration": 0.017982,
     "end_time": "2021-11-05T03:47:53.857461",
     "exception": false,
     "start_time": "2021-11-05T03:47:53.839479",
     "status": "completed"
    },
    "tags": []
   },
   "source": [
    "Adicionando o dataset 'movies.csv' como 'movies' e visualizando as 5 primeiras linhas para entender quais dados estão disponíveis no dataset."
   ]
  },
  {
   "cell_type": "code",
   "execution_count": 2,
   "id": "b307689f",
   "metadata": {
    "execution": {
     "iopub.execute_input": "2021-11-05T03:47:53.897266Z",
     "iopub.status.busy": "2021-11-05T03:47:53.896652Z",
     "iopub.status.idle": "2021-11-05T03:47:53.933687Z",
     "shell.execute_reply": "2021-11-05T03:47:53.934243Z",
     "shell.execute_reply.started": "2021-11-05T03:10:16.791712Z"
    },
    "papermill": {
     "duration": 0.058739,
     "end_time": "2021-11-05T03:47:53.934420",
     "exception": false,
     "start_time": "2021-11-05T03:47:53.875681",
     "status": "completed"
    },
    "tags": []
   },
   "outputs": [
    {
     "data": {
      "text/html": [
       "<div>\n",
       "<style scoped>\n",
       "    .dataframe tbody tr th:only-of-type {\n",
       "        vertical-align: middle;\n",
       "    }\n",
       "\n",
       "    .dataframe tbody tr th {\n",
       "        vertical-align: top;\n",
       "    }\n",
       "\n",
       "    .dataframe thead th {\n",
       "        text-align: right;\n",
       "    }\n",
       "</style>\n",
       "<table border=\"1\" class=\"dataframe\">\n",
       "  <thead>\n",
       "    <tr style=\"text-align: right;\">\n",
       "      <th></th>\n",
       "      <th>1</th>\n",
       "      <th>(Dinosaur Planet, 2003)</th>\n",
       "    </tr>\n",
       "  </thead>\n",
       "  <tbody>\n",
       "    <tr>\n",
       "      <th>0</th>\n",
       "      <td>2</td>\n",
       "      <td>(Isle of Man TT 2004 Review, 2004)</td>\n",
       "    </tr>\n",
       "    <tr>\n",
       "      <th>1</th>\n",
       "      <td>3</td>\n",
       "      <td>(Character, 1997)</td>\n",
       "    </tr>\n",
       "    <tr>\n",
       "      <th>2</th>\n",
       "      <td>4</td>\n",
       "      <td>(Paula Abdul's Get Up &amp; Dance, 1994)</td>\n",
       "    </tr>\n",
       "    <tr>\n",
       "      <th>3</th>\n",
       "      <td>5</td>\n",
       "      <td>(The Rise and Fall of ECW, 2004)</td>\n",
       "    </tr>\n",
       "    <tr>\n",
       "      <th>4</th>\n",
       "      <td>6</td>\n",
       "      <td>(Sick, 1997)</td>\n",
       "    </tr>\n",
       "  </tbody>\n",
       "</table>\n",
       "</div>"
      ],
      "text/plain": [
       "   1               (Dinosaur Planet, 2003)\n",
       "0  2    (Isle of Man TT 2004 Review, 2004)\n",
       "1  3                     (Character, 1997)\n",
       "2  4  (Paula Abdul's Get Up & Dance, 1994)\n",
       "3  5      (The Rise and Fall of ECW, 2004)\n",
       "4  6                          (Sick, 1997)"
      ]
     },
     "execution_count": 2,
     "metadata": {},
     "output_type": "execute_result"
    }
   ],
   "source": [
    "movies = pd.read_csv('../input/movies/movies.csv', sep = ';')\n",
    "movies.head()"
   ]
  },
  {
   "cell_type": "markdown",
   "id": "7c488fb6",
   "metadata": {
    "papermill": {
     "duration": 0.018314,
     "end_time": "2021-11-05T03:47:53.971406",
     "exception": false,
     "start_time": "2021-11-05T03:47:53.953092",
     "status": "completed"
    },
    "tags": []
   },
   "source": [
    "Como o título dos filmes e ano de lançamento estão juntos na mesma coluna, verificar o tipo dos elementos da coluna."
   ]
  },
  {
   "cell_type": "code",
   "execution_count": 3,
   "id": "7f8f001b",
   "metadata": {
    "execution": {
     "iopub.execute_input": "2021-11-05T03:47:54.011827Z",
     "iopub.status.busy": "2021-11-05T03:47:54.011197Z",
     "iopub.status.idle": "2021-11-05T03:47:54.032795Z",
     "shell.execute_reply": "2021-11-05T03:47:54.033298Z",
     "shell.execute_reply.started": "2021-11-05T03:10:16.847319Z"
    },
    "papermill": {
     "duration": 0.043449,
     "end_time": "2021-11-05T03:47:54.033500",
     "exception": false,
     "start_time": "2021-11-05T03:47:53.990051",
     "status": "completed"
    },
    "tags": []
   },
   "outputs": [
    {
     "name": "stdout",
     "output_type": "stream",
     "text": [
      "<class 'pandas.core.frame.DataFrame'>\n",
      "RangeIndex: 4498 entries, 0 to 4497\n",
      "Data columns (total 2 columns):\n",
      " #   Column                   Non-Null Count  Dtype \n",
      "---  ------                   --------------  ----- \n",
      " 0   1                        4498 non-null   int64 \n",
      " 1   (Dinosaur Planet, 2003)  4498 non-null   object\n",
      "dtypes: int64(1), object(1)\n",
      "memory usage: 70.4+ KB\n"
     ]
    }
   ],
   "source": [
    "movies.info()"
   ]
  },
  {
   "cell_type": "markdown",
   "id": "c70042bc",
   "metadata": {
    "papermill": {
     "duration": 0.018937,
     "end_time": "2021-11-05T03:47:54.071705",
     "exception": false,
     "start_time": "2021-11-05T03:47:54.052768",
     "status": "completed"
    },
    "tags": []
   },
   "source": [
    "O dataset possuia como header as informações que deveriam estar em uma linha então atribuir novo header ao dataset. Nessa caso, escolhi \"Movie_Id\" \"Title, Year\""
   ]
  },
  {
   "cell_type": "code",
   "execution_count": 4,
   "id": "9b69cb68",
   "metadata": {
    "execution": {
     "iopub.execute_input": "2021-11-05T03:47:54.114872Z",
     "iopub.status.busy": "2021-11-05T03:47:54.113059Z",
     "iopub.status.idle": "2021-11-05T03:47:54.128871Z",
     "shell.execute_reply": "2021-11-05T03:47:54.129433Z",
     "shell.execute_reply.started": "2021-11-05T03:10:16.886404Z"
    },
    "papermill": {
     "duration": 0.038905,
     "end_time": "2021-11-05T03:47:54.129599",
     "exception": false,
     "start_time": "2021-11-05T03:47:54.090694",
     "status": "completed"
    },
    "tags": []
   },
   "outputs": [
    {
     "data": {
      "text/html": [
       "<div>\n",
       "<style scoped>\n",
       "    .dataframe tbody tr th:only-of-type {\n",
       "        vertical-align: middle;\n",
       "    }\n",
       "\n",
       "    .dataframe tbody tr th {\n",
       "        vertical-align: top;\n",
       "    }\n",
       "\n",
       "    .dataframe thead th {\n",
       "        text-align: right;\n",
       "    }\n",
       "</style>\n",
       "<table border=\"1\" class=\"dataframe\">\n",
       "  <thead>\n",
       "    <tr style=\"text-align: right;\">\n",
       "      <th></th>\n",
       "      <th>Movie_Id</th>\n",
       "      <th>Title, Year</th>\n",
       "    </tr>\n",
       "  </thead>\n",
       "  <tbody>\n",
       "    <tr>\n",
       "      <th>0</th>\n",
       "      <td>1</td>\n",
       "      <td>(Dinosaur Planet, 2003)</td>\n",
       "    </tr>\n",
       "    <tr>\n",
       "      <th>1</th>\n",
       "      <td>2</td>\n",
       "      <td>(Isle of Man TT 2004 Review, 2004)</td>\n",
       "    </tr>\n",
       "    <tr>\n",
       "      <th>2</th>\n",
       "      <td>3</td>\n",
       "      <td>(Character, 1997)</td>\n",
       "    </tr>\n",
       "    <tr>\n",
       "      <th>3</th>\n",
       "      <td>4</td>\n",
       "      <td>(Paula Abdul's Get Up &amp; Dance, 1994)</td>\n",
       "    </tr>\n",
       "    <tr>\n",
       "      <th>4</th>\n",
       "      <td>5</td>\n",
       "      <td>(The Rise and Fall of ECW, 2004)</td>\n",
       "    </tr>\n",
       "  </tbody>\n",
       "</table>\n",
       "</div>"
      ],
      "text/plain": [
       "   Movie_Id                           Title, Year\n",
       "0         1               (Dinosaur Planet, 2003)\n",
       "1         2    (Isle of Man TT 2004 Review, 2004)\n",
       "2         3                     (Character, 1997)\n",
       "3         4  (Paula Abdul's Get Up & Dance, 1994)\n",
       "4         5      (The Rise and Fall of ECW, 2004)"
      ]
     },
     "execution_count": 4,
     "metadata": {},
     "output_type": "execute_result"
    }
   ],
   "source": [
    "newHeaders=[\"Movie_Id\", \"Title, Year\"]\n",
    "movies = pd.read_csv(\"../input/movies/movies.csv\", sep = ';', names = newHeaders) \n",
    "movies.head()"
   ]
  },
  {
   "cell_type": "markdown",
   "id": "ea64fd23",
   "metadata": {
    "papermill": {
     "duration": 0.019275,
     "end_time": "2021-11-05T03:47:54.168576",
     "exception": false,
     "start_time": "2021-11-05T03:47:54.149301",
     "status": "completed"
    },
    "tags": []
   },
   "source": [
    "É necessário seperar as informações \"Title\" e \"Year\". Aqui, usei a função split que divide o conteúdo de uma string e obtive esses dois valores em duas novas colunas."
   ]
  },
  {
   "cell_type": "code",
   "execution_count": 5,
   "id": "abdf4429",
   "metadata": {
    "execution": {
     "iopub.execute_input": "2021-11-05T03:47:54.209956Z",
     "iopub.status.busy": "2021-11-05T03:47:54.209332Z",
     "iopub.status.idle": "2021-11-05T03:47:54.235966Z",
     "shell.execute_reply": "2021-11-05T03:47:54.236383Z",
     "shell.execute_reply.started": "2021-11-05T03:10:16.912943Z"
    },
    "papermill": {
     "duration": 0.048544,
     "end_time": "2021-11-05T03:47:54.236557",
     "exception": false,
     "start_time": "2021-11-05T03:47:54.188013",
     "status": "completed"
    },
    "tags": []
   },
   "outputs": [
    {
     "data": {
      "text/html": [
       "<div>\n",
       "<style scoped>\n",
       "    .dataframe tbody tr th:only-of-type {\n",
       "        vertical-align: middle;\n",
       "    }\n",
       "\n",
       "    .dataframe tbody tr th {\n",
       "        vertical-align: top;\n",
       "    }\n",
       "\n",
       "    .dataframe thead th {\n",
       "        text-align: right;\n",
       "    }\n",
       "</style>\n",
       "<table border=\"1\" class=\"dataframe\">\n",
       "  <thead>\n",
       "    <tr style=\"text-align: right;\">\n",
       "      <th></th>\n",
       "      <th>Movie_Id</th>\n",
       "      <th>Title, Year</th>\n",
       "      <th>Title</th>\n",
       "      <th>Year</th>\n",
       "    </tr>\n",
       "  </thead>\n",
       "  <tbody>\n",
       "    <tr>\n",
       "      <th>0</th>\n",
       "      <td>1</td>\n",
       "      <td>(Dinosaur Planet, 2003)</td>\n",
       "      <td>(Dinosaur Planet</td>\n",
       "      <td>2003)</td>\n",
       "    </tr>\n",
       "    <tr>\n",
       "      <th>1</th>\n",
       "      <td>2</td>\n",
       "      <td>(Isle of Man TT 2004 Review, 2004)</td>\n",
       "      <td>(Isle of Man TT 2004 Review</td>\n",
       "      <td>2004)</td>\n",
       "    </tr>\n",
       "    <tr>\n",
       "      <th>2</th>\n",
       "      <td>3</td>\n",
       "      <td>(Character, 1997)</td>\n",
       "      <td>(Character</td>\n",
       "      <td>1997)</td>\n",
       "    </tr>\n",
       "    <tr>\n",
       "      <th>3</th>\n",
       "      <td>4</td>\n",
       "      <td>(Paula Abdul's Get Up &amp; Dance, 1994)</td>\n",
       "      <td>(Paula Abdul's Get Up &amp; Dance</td>\n",
       "      <td>1994)</td>\n",
       "    </tr>\n",
       "    <tr>\n",
       "      <th>4</th>\n",
       "      <td>5</td>\n",
       "      <td>(The Rise and Fall of ECW, 2004)</td>\n",
       "      <td>(The Rise and Fall of ECW</td>\n",
       "      <td>2004)</td>\n",
       "    </tr>\n",
       "    <tr>\n",
       "      <th>...</th>\n",
       "      <td>...</td>\n",
       "      <td>...</td>\n",
       "      <td>...</td>\n",
       "      <td>...</td>\n",
       "    </tr>\n",
       "    <tr>\n",
       "      <th>4494</th>\n",
       "      <td>4495</td>\n",
       "      <td>(Clifford: Happy Birthday Clifford / Puppy Lov...</td>\n",
       "      <td>(Clifford: Happy Birthday Clifford / Puppy Love</td>\n",
       "      <td>2002)</td>\n",
       "    </tr>\n",
       "    <tr>\n",
       "      <th>4495</th>\n",
       "      <td>4496</td>\n",
       "      <td>(Farewell My Concubine, 1993)</td>\n",
       "      <td>(Farewell My Concubine</td>\n",
       "      <td>1993)</td>\n",
       "    </tr>\n",
       "    <tr>\n",
       "      <th>4496</th>\n",
       "      <td>4497</td>\n",
       "      <td>(Texasville, 1990)</td>\n",
       "      <td>(Texasville</td>\n",
       "      <td>1990)</td>\n",
       "    </tr>\n",
       "    <tr>\n",
       "      <th>4497</th>\n",
       "      <td>4498</td>\n",
       "      <td>(Gonin, 2000)</td>\n",
       "      <td>(Gonin</td>\n",
       "      <td>2000)</td>\n",
       "    </tr>\n",
       "    <tr>\n",
       "      <th>4498</th>\n",
       "      <td>4499</td>\n",
       "      <td>(In My Skin, 2002)</td>\n",
       "      <td>(In My Skin</td>\n",
       "      <td>2002)</td>\n",
       "    </tr>\n",
       "  </tbody>\n",
       "</table>\n",
       "<p>4499 rows × 4 columns</p>\n",
       "</div>"
      ],
      "text/plain": [
       "      Movie_Id                                        Title, Year  \\\n",
       "0            1                            (Dinosaur Planet, 2003)   \n",
       "1            2                 (Isle of Man TT 2004 Review, 2004)   \n",
       "2            3                                  (Character, 1997)   \n",
       "3            4               (Paula Abdul's Get Up & Dance, 1994)   \n",
       "4            5                   (The Rise and Fall of ECW, 2004)   \n",
       "...        ...                                                ...   \n",
       "4494      4495  (Clifford: Happy Birthday Clifford / Puppy Lov...   \n",
       "4495      4496                      (Farewell My Concubine, 1993)   \n",
       "4496      4497                                 (Texasville, 1990)   \n",
       "4497      4498                                      (Gonin, 2000)   \n",
       "4498      4499                                 (In My Skin, 2002)   \n",
       "\n",
       "                                                Title    Year  \n",
       "0                                    (Dinosaur Planet   2003)  \n",
       "1                         (Isle of Man TT 2004 Review   2004)  \n",
       "2                                          (Character   1997)  \n",
       "3                       (Paula Abdul's Get Up & Dance   1994)  \n",
       "4                           (The Rise and Fall of ECW   2004)  \n",
       "...                                               ...     ...  \n",
       "4494  (Clifford: Happy Birthday Clifford / Puppy Love   2002)  \n",
       "4495                           (Farewell My Concubine   1993)  \n",
       "4496                                      (Texasville   1990)  \n",
       "4497                                           (Gonin   2000)  \n",
       "4498                                      (In My Skin   2002)  \n",
       "\n",
       "[4499 rows x 4 columns]"
      ]
     },
     "execution_count": 5,
     "metadata": {},
     "output_type": "execute_result"
    }
   ],
   "source": [
    "movies['Title, Year'].str.split(',', expand=True)\n",
    "movies[['Title', 'Year']] = movies['Title, Year'].str.split(',', expand=True)\n",
    "\n",
    "movies"
   ]
  },
  {
   "cell_type": "markdown",
   "id": "2a849157",
   "metadata": {
    "papermill": {
     "duration": 0.019432,
     "end_time": "2021-11-05T03:47:54.275816",
     "exception": false,
     "start_time": "2021-11-05T03:47:54.256384",
     "status": "completed"
    },
    "tags": []
   },
   "source": [
    "Realizei esse output para ter certeza que a divisão do conteúdo da string foi feita com sucesso e aproveitei para imprimir os valores do menor ano (ano de lançamento dos filmes mais antigos disponíveis na plataforma) e maior ano (ano de lançamento dos filmes mais recentes disponíveis na plataforma)"
   ]
  },
  {
   "cell_type": "code",
   "execution_count": 6,
   "id": "4dc46ad0",
   "metadata": {
    "execution": {
     "iopub.execute_input": "2021-11-05T03:47:54.318236Z",
     "iopub.status.busy": "2021-11-05T03:47:54.317538Z",
     "iopub.status.idle": "2021-11-05T03:47:54.324949Z",
     "shell.execute_reply": "2021-11-05T03:47:54.324088Z",
     "shell.execute_reply.started": "2021-11-05T03:10:16.962885Z"
    },
    "papermill": {
     "duration": 0.029832,
     "end_time": "2021-11-05T03:47:54.325185",
     "exception": false,
     "start_time": "2021-11-05T03:47:54.295353",
     "status": "completed"
    },
    "tags": []
   },
   "outputs": [
    {
     "name": "stdout",
     "output_type": "stream",
     "text": [
      " 1915)  2005)\n"
     ]
    }
   ],
   "source": [
    "print(movies['Year'].min(), movies['Year'].max())"
   ]
  },
  {
   "cell_type": "markdown",
   "id": "dbb48bd7",
   "metadata": {
    "papermill": {
     "duration": 0.019725,
     "end_time": "2021-11-05T03:47:54.366467",
     "exception": false,
     "start_time": "2021-11-05T03:47:54.346742",
     "status": "completed"
    },
    "tags": []
   },
   "source": [
    "O próximo input foi feito para responder a pergunta 1.1 e conta quantas linhas existem no dataset 'movies.csv' (Utilizar, por exemplo, 'movies.shape[0]' retorna a contagem de todas as linhas da tabela enquanto 'movies.count()' retorna apenas a contagem de linhas não NaN para cada coluna. Nesse caso, o retorno é o mesmo e indica que não existem linhas NaN)"
   ]
  },
  {
   "cell_type": "code",
   "execution_count": 7,
   "id": "e4678f87",
   "metadata": {
    "execution": {
     "iopub.execute_input": "2021-11-05T03:47:54.414680Z",
     "iopub.status.busy": "2021-11-05T03:47:54.413299Z",
     "iopub.status.idle": "2021-11-05T03:47:54.420360Z",
     "shell.execute_reply": "2021-11-05T03:47:54.420844Z",
     "shell.execute_reply.started": "2021-11-05T03:10:16.974552Z"
    },
    "papermill": {
     "duration": 0.033783,
     "end_time": "2021-11-05T03:47:54.421050",
     "exception": false,
     "start_time": "2021-11-05T03:47:54.387267",
     "status": "completed"
    },
    "tags": []
   },
   "outputs": [
    {
     "data": {
      "text/plain": [
       "Movie_Id       4499\n",
       "Title, Year    4499\n",
       "Title          4499\n",
       "Year           4499\n",
       "dtype: int64"
      ]
     },
     "execution_count": 7,
     "metadata": {},
     "output_type": "execute_result"
    }
   ],
   "source": [
    "movies.count()"
   ]
  },
  {
   "cell_type": "markdown",
   "id": "f063208c",
   "metadata": {
    "papermill": {
     "duration": 0.019882,
     "end_time": "2021-11-05T03:47:54.461269",
     "exception": false,
     "start_time": "2021-11-05T03:47:54.441387",
     "status": "completed"
    },
    "tags": []
   },
   "source": [
    "Adicionando o dataset 'customersRating.csv' e visualizando as 5 primeiras linhas para entender quais dados estão disponíveis no dataset."
   ]
  },
  {
   "cell_type": "code",
   "execution_count": 8,
   "id": "1bd0384d",
   "metadata": {
    "execution": {
     "iopub.execute_input": "2021-11-05T03:47:54.505118Z",
     "iopub.status.busy": "2021-11-05T03:47:54.504261Z",
     "iopub.status.idle": "2021-11-05T03:48:07.927014Z",
     "shell.execute_reply": "2021-11-05T03:48:07.927608Z",
     "shell.execute_reply.started": "2021-11-05T03:10:17.002246Z"
    },
    "papermill": {
     "duration": 13.446178,
     "end_time": "2021-11-05T03:48:07.927784",
     "exception": false,
     "start_time": "2021-11-05T03:47:54.481606",
     "status": "completed"
    },
    "tags": []
   },
   "outputs": [
    {
     "data": {
      "text/html": [
       "<div>\n",
       "<style scoped>\n",
       "    .dataframe tbody tr th:only-of-type {\n",
       "        vertical-align: middle;\n",
       "    }\n",
       "\n",
       "    .dataframe tbody tr th {\n",
       "        vertical-align: top;\n",
       "    }\n",
       "\n",
       "    .dataframe thead th {\n",
       "        text-align: right;\n",
       "    }\n",
       "</style>\n",
       "<table border=\"1\" class=\"dataframe\">\n",
       "  <thead>\n",
       "    <tr style=\"text-align: right;\">\n",
       "      <th></th>\n",
       "      <th>Cust_Id</th>\n",
       "      <th>Rating</th>\n",
       "      <th>Date</th>\n",
       "      <th>Movie_Id</th>\n",
       "    </tr>\n",
       "  </thead>\n",
       "  <tbody>\n",
       "    <tr>\n",
       "      <th>0</th>\n",
       "      <td>1488844</td>\n",
       "      <td>3.0</td>\n",
       "      <td>2005-09-06</td>\n",
       "      <td>1</td>\n",
       "    </tr>\n",
       "    <tr>\n",
       "      <th>1</th>\n",
       "      <td>822109</td>\n",
       "      <td>5.0</td>\n",
       "      <td>2005-05-13</td>\n",
       "      <td>1</td>\n",
       "    </tr>\n",
       "    <tr>\n",
       "      <th>2</th>\n",
       "      <td>885013</td>\n",
       "      <td>4.0</td>\n",
       "      <td>2005-10-19</td>\n",
       "      <td>1</td>\n",
       "    </tr>\n",
       "    <tr>\n",
       "      <th>3</th>\n",
       "      <td>30878</td>\n",
       "      <td>4.0</td>\n",
       "      <td>2005-12-26</td>\n",
       "      <td>1</td>\n",
       "    </tr>\n",
       "    <tr>\n",
       "      <th>4</th>\n",
       "      <td>823519</td>\n",
       "      <td>3.0</td>\n",
       "      <td>2004-05-03</td>\n",
       "      <td>1</td>\n",
       "    </tr>\n",
       "  </tbody>\n",
       "</table>\n",
       "</div>"
      ],
      "text/plain": [
       "   Cust_Id  Rating        Date  Movie_Id\n",
       "0  1488844     3.0  2005-09-06         1\n",
       "1   822109     5.0  2005-05-13         1\n",
       "2   885013     4.0  2005-10-19         1\n",
       "3    30878     4.0  2005-12-26         1\n",
       "4   823519     3.0  2004-05-03         1"
      ]
     },
     "execution_count": 8,
     "metadata": {},
     "output_type": "execute_result"
    }
   ],
   "source": [
    "customersRating = pd.read_csv('../input/customersrating/customers_rating.csv', sep = ';')\n",
    "customersRating.head()"
   ]
  },
  {
   "cell_type": "markdown",
   "id": "85f7b4b8",
   "metadata": {
    "papermill": {
     "duration": 0.021477,
     "end_time": "2021-11-05T03:48:07.978065",
     "exception": false,
     "start_time": "2021-11-05T03:48:07.956588",
     "status": "completed"
    },
    "tags": []
   },
   "source": [
    "Verificando os DTypes para ver está tudo certo. O 'Date' poderia ser do tipo datetime mas como achei que não seria necessário realizar manipulações com esse valor em específico, optei por não fazer a conversão."
   ]
  },
  {
   "cell_type": "code",
   "execution_count": 9,
   "id": "c8d70538",
   "metadata": {
    "execution": {
     "iopub.execute_input": "2021-11-05T03:48:08.022829Z",
     "iopub.status.busy": "2021-11-05T03:48:08.022228Z",
     "iopub.status.idle": "2021-11-05T03:48:08.031552Z",
     "shell.execute_reply": "2021-11-05T03:48:08.032378Z",
     "shell.execute_reply.started": "2021-11-05T03:10:38.758792Z"
    },
    "papermill": {
     "duration": 0.033784,
     "end_time": "2021-11-05T03:48:08.032644",
     "exception": false,
     "start_time": "2021-11-05T03:48:07.998860",
     "status": "completed"
    },
    "tags": []
   },
   "outputs": [
    {
     "name": "stdout",
     "output_type": "stream",
     "text": [
      "<class 'pandas.core.frame.DataFrame'>\n",
      "RangeIndex: 24053764 entries, 0 to 24053763\n",
      "Data columns (total 4 columns):\n",
      " #   Column    Dtype  \n",
      "---  ------    -----  \n",
      " 0   Cust_Id   int64  \n",
      " 1   Rating    float64\n",
      " 2   Date      object \n",
      " 3   Movie_Id  int64  \n",
      "dtypes: float64(1), int64(2), object(1)\n",
      "memory usage: 734.1+ MB\n"
     ]
    }
   ],
   "source": [
    "customersRating.info()"
   ]
  },
  {
   "cell_type": "markdown",
   "id": "58dd8891",
   "metadata": {
    "papermill": {
     "duration": 0.021131,
     "end_time": "2021-11-05T03:48:08.076519",
     "exception": false,
     "start_time": "2021-11-05T03:48:08.055388",
     "status": "completed"
    },
    "tags": []
   },
   "source": [
    "Agrupando a coluna 'Rating'"
   ]
  },
  {
   "cell_type": "code",
   "execution_count": 10,
   "id": "bb000027",
   "metadata": {
    "execution": {
     "iopub.execute_input": "2021-11-05T03:48:08.125661Z",
     "iopub.status.busy": "2021-11-05T03:48:08.125036Z",
     "iopub.status.idle": "2021-11-05T03:48:08.128506Z",
     "shell.execute_reply": "2021-11-05T03:48:08.128006Z",
     "shell.execute_reply.started": "2021-11-05T03:10:38.793247Z"
    },
    "papermill": {
     "duration": 0.030407,
     "end_time": "2021-11-05T03:48:08.128656",
     "exception": false,
     "start_time": "2021-11-05T03:48:08.098249",
     "status": "completed"
    },
    "tags": []
   },
   "outputs": [
    {
     "data": {
      "text/plain": [
       "pandas.core.groupby.generic.DataFrameGroupBy"
      ]
     },
     "execution_count": 10,
     "metadata": {},
     "output_type": "execute_result"
    }
   ],
   "source": [
    "customersRating_groupby_rating = customersRating.groupby('Rating')\n",
    "type(customersRating_groupby_rating)"
   ]
  },
  {
   "cell_type": "markdown",
   "id": "82553987",
   "metadata": {
    "papermill": {
     "duration": 0.020997,
     "end_time": "2021-11-05T03:48:08.170923",
     "exception": false,
     "start_time": "2021-11-05T03:48:08.149926",
     "status": "completed"
    },
    "tags": []
   },
   "source": [
    "Visualizando os grupos que foram agrupados anteriormente. Fazendo algo tipo 'customersRating_groupby_rating.ngroups' é possível ver que existem 5 grupos mas dessa forma não fica claro que as notas das avaliações são inteiros que vão de 1 até 5 então optei por visualizar os grupos de forma mais completa."
   ]
  },
  {
   "cell_type": "code",
   "execution_count": 11,
   "id": "4df7c20b",
   "metadata": {
    "execution": {
     "iopub.execute_input": "2021-11-05T03:48:08.217176Z",
     "iopub.status.busy": "2021-11-05T03:48:08.216253Z",
     "iopub.status.idle": "2021-11-05T03:48:09.155246Z",
     "shell.execute_reply": "2021-11-05T03:48:09.155669Z",
     "shell.execute_reply.started": "2021-11-05T03:10:38.810949Z"
    },
    "papermill": {
     "duration": 0.963682,
     "end_time": "2021-11-05T03:48:09.155858",
     "exception": false,
     "start_time": "2021-11-05T03:48:08.192176",
     "status": "completed"
    },
    "tags": []
   },
   "outputs": [
    {
     "data": {
      "text/plain": [
       "{1.0: [40, 50, 64, 80, 85, 93, 101, 121, 132, 147, 154, 171, 211, 238, 251, 266, 300, 327, 328, 332, 368, 393, 442, 457, 458, 512, 516, 531, 574, 578, 581, 590, 604, 609, 614, 635, 641, 648, 655, 672, 674, 680, 681, 688, 698, 734, 743, 755, 773, 776, 865, 896, 904, 927, 932, 975, 989, 990, 1013, 1020, 1021, 1041, 1045, 1050, 1082, 1087, 1094, 1123, 1256, 1278, 1286, 1302, 1311, 1444, 1448, 1552, 1571, 1594, 1611, 1613, 1679, 1752, 1800, 1831, 1832, 1876, 1886, 1895, 1903, 1906, 1939, 1950, 1996, 2000, 2002, 2021, 2055, 2072, 2179, 2289, ...], 2.0: [36, 39, 41, 55, 66, 71, 84, 89, 107, 118, 137, 151, 159, 160, 163, 175, 182, 206, 210, 264, 287, 309, 343, 347, 366, 376, 384, 385, 392, 417, 527, 552, 575, 577, 599, 618, 634, 653, 654, 660, 661, 668, 705, 708, 721, 728, 738, 770, 777, 779, 780, 781, 812, 813, 824, 843, 846, 853, 872, 874, 879, 894, 898, 914, 938, 943, 948, 949, 951, 962, 981, 1004, 1007, 1024, 1029, 1032, 1035, 1052, 1060, 1071, 1084, 1086, 1095, 1099, 1104, 1141, 1149, 1168, 1192, 1203, 1251, 1266, 1267, 1306, 1319, 1362, 1363, 1379, 1392, 1396, ...], 3.0: [0, 4, 5, 7, 9, 12, 13, 17, 20, 21, 24, 31, 35, 43, 44, 49, 52, 53, 56, 58, 59, 74, 81, 83, 87, 95, 96, 100, 105, 108, 115, 119, 127, 129, 133, 139, 140, 146, 148, 150, 152, 158, 162, 164, 169, 170, 172, 176, 177, 179, 187, 190, 204, 205, 213, 223, 224, 230, 231, 232, 240, 244, 249, 250, 253, 272, 275, 279, 282, 283, 284, 292, 297, 307, 314, 315, 316, 321, 352, 353, 357, 360, 361, 362, 363, 367, 382, 391, 394, 397, 400, 404, 405, 409, 411, 413, 418, 419, 425, 426, ...], 4.0: [2, 3, 6, 8, 10, 14, 15, 16, 18, 22, 23, 25, 26, 28, 32, 33, 37, 38, 42, 47, 51, 54, 57, 60, 62, 67, 69, 70, 72, 73, 75, 82, 88, 90, 91, 92, 94, 97, 98, 104, 114, 117, 120, 123, 124, 126, 134, 138, 142, 145, 149, 153, 155, 156, 161, 165, 167, 168, 173, 174, 178, 180, 181, 183, 184, 185, 186, 188, 189, 194, 197, 198, 199, 200, 207, 212, 215, 219, 220, 221, 222, 228, 234, 235, 239, 243, 245, 246, 248, 252, 254, 255, 256, 257, 258, 260, 262, 263, 267, 269, ...], 5.0: [1, 11, 19, 27, 29, 30, 34, 45, 46, 48, 61, 63, 65, 68, 76, 77, 78, 79, 86, 99, 102, 103, 106, 109, 110, 111, 112, 113, 116, 122, 125, 128, 130, 131, 135, 136, 141, 143, 144, 157, 166, 191, 192, 193, 195, 196, 201, 202, 203, 208, 209, 214, 216, 217, 218, 225, 226, 227, 229, 233, 236, 237, 241, 242, 247, 259, 261, 265, 268, 271, 273, 274, 278, 288, 290, 291, 295, 298, 299, 301, 302, 303, 304, 308, 312, 313, 317, 322, 323, 325, 326, 331, 337, 339, 341, 342, 344, 346, 348, 355, ...]}"
      ]
     },
     "execution_count": 11,
     "metadata": {},
     "output_type": "execute_result"
    }
   ],
   "source": [
    "customersRating_groupby_rating.groups"
   ]
  },
  {
   "cell_type": "markdown",
   "id": "b9a57082",
   "metadata": {
    "papermill": {
     "duration": 0.021822,
     "end_time": "2021-11-05T03:48:09.199978",
     "exception": false,
     "start_time": "2021-11-05T03:48:09.178156",
     "status": "completed"
    },
    "tags": []
   },
   "source": [
    "Aqui, foi feito o agrupamento da coluna 'Movie_Id' e um agregado com a coluna 'Rating' para se obter a média e imprimir os 5 primeiros valores de forma decrescente. Assim, foi obtido a resposta do entregável 1.2, onde o nome dos 5 filmes com melhor média de avaliação são, respectivamente: The Rise and Fall of ECW, Dinosaur Planet, Character e Paula Abdul's Get Up & Dance)  "
   ]
  },
  {
   "cell_type": "code",
   "execution_count": 12,
   "id": "7626bec1",
   "metadata": {
    "execution": {
     "iopub.execute_input": "2021-11-05T03:48:09.251892Z",
     "iopub.status.busy": "2021-11-05T03:48:09.250889Z",
     "iopub.status.idle": "2021-11-05T03:48:10.234671Z",
     "shell.execute_reply": "2021-11-05T03:48:10.234098Z",
     "shell.execute_reply.started": "2021-11-05T03:10:39.871595Z"
    },
    "papermill": {
     "duration": 1.011503,
     "end_time": "2021-11-05T03:48:10.234810",
     "exception": false,
     "start_time": "2021-11-05T03:48:09.223307",
     "status": "completed"
    },
    "tags": []
   },
   "outputs": [
    {
     "data": {
      "text/html": [
       "<div>\n",
       "<style scoped>\n",
       "    .dataframe tbody tr th:only-of-type {\n",
       "        vertical-align: middle;\n",
       "    }\n",
       "\n",
       "    .dataframe tbody tr th {\n",
       "        vertical-align: top;\n",
       "    }\n",
       "\n",
       "    .dataframe thead th {\n",
       "        text-align: right;\n",
       "    }\n",
       "</style>\n",
       "<table border=\"1\" class=\"dataframe\">\n",
       "  <thead>\n",
       "    <tr style=\"text-align: right;\">\n",
       "      <th></th>\n",
       "      <th>mean</th>\n",
       "    </tr>\n",
       "    <tr>\n",
       "      <th>Movie_Id</th>\n",
       "      <th></th>\n",
       "    </tr>\n",
       "  </thead>\n",
       "  <tbody>\n",
       "    <tr>\n",
       "      <th>5</th>\n",
       "      <td>3.919298</td>\n",
       "    </tr>\n",
       "    <tr>\n",
       "      <th>1</th>\n",
       "      <td>3.749543</td>\n",
       "    </tr>\n",
       "    <tr>\n",
       "      <th>3</th>\n",
       "      <td>3.641153</td>\n",
       "    </tr>\n",
       "    <tr>\n",
       "      <th>2</th>\n",
       "      <td>3.558621</td>\n",
       "    </tr>\n",
       "    <tr>\n",
       "      <th>4</th>\n",
       "      <td>2.739437</td>\n",
       "    </tr>\n",
       "  </tbody>\n",
       "</table>\n",
       "</div>"
      ],
      "text/plain": [
       "              mean\n",
       "Movie_Id          \n",
       "5         3.919298\n",
       "1         3.749543\n",
       "3         3.641153\n",
       "2         3.558621\n",
       "4         2.739437"
      ]
     },
     "execution_count": 12,
     "metadata": {},
     "output_type": "execute_result"
    }
   ],
   "source": [
    "customersRating.groupby('Movie_Id').Rating.agg(['mean']).head()\n",
    "grouped = customersRating.groupby('Movie_Id').Rating.agg(['mean']).head()\n",
    "grouped.sort_values('mean', ascending=False)"
   ]
  },
  {
   "cell_type": "markdown",
   "id": "415dd875",
   "metadata": {
    "papermill": {
     "duration": 0.021531,
     "end_time": "2021-11-05T03:48:10.278315",
     "exception": false,
     "start_time": "2021-11-05T03:48:10.256784",
     "status": "completed"
    },
    "tags": []
   },
   "source": [
    "É possível verificar o resultado anterior visualizando o dataset 'movies.csv'"
   ]
  },
  {
   "cell_type": "code",
   "execution_count": 13,
   "id": "77e9a87c",
   "metadata": {
    "execution": {
     "iopub.execute_input": "2021-11-05T03:48:10.332129Z",
     "iopub.status.busy": "2021-11-05T03:48:10.331310Z",
     "iopub.status.idle": "2021-11-05T03:48:10.335160Z",
     "shell.execute_reply": "2021-11-05T03:48:10.334605Z",
     "shell.execute_reply.started": "2021-11-05T03:10:40.984917Z"
    },
    "papermill": {
     "duration": 0.03506,
     "end_time": "2021-11-05T03:48:10.335327",
     "exception": false,
     "start_time": "2021-11-05T03:48:10.300267",
     "status": "completed"
    },
    "tags": []
   },
   "outputs": [
    {
     "data": {
      "text/html": [
       "<div>\n",
       "<style scoped>\n",
       "    .dataframe tbody tr th:only-of-type {\n",
       "        vertical-align: middle;\n",
       "    }\n",
       "\n",
       "    .dataframe tbody tr th {\n",
       "        vertical-align: top;\n",
       "    }\n",
       "\n",
       "    .dataframe thead th {\n",
       "        text-align: right;\n",
       "    }\n",
       "</style>\n",
       "<table border=\"1\" class=\"dataframe\">\n",
       "  <thead>\n",
       "    <tr style=\"text-align: right;\">\n",
       "      <th></th>\n",
       "      <th>Movie_Id</th>\n",
       "      <th>Title, Year</th>\n",
       "      <th>Title</th>\n",
       "      <th>Year</th>\n",
       "    </tr>\n",
       "  </thead>\n",
       "  <tbody>\n",
       "    <tr>\n",
       "      <th>0</th>\n",
       "      <td>1</td>\n",
       "      <td>(Dinosaur Planet, 2003)</td>\n",
       "      <td>(Dinosaur Planet</td>\n",
       "      <td>2003)</td>\n",
       "    </tr>\n",
       "    <tr>\n",
       "      <th>1</th>\n",
       "      <td>2</td>\n",
       "      <td>(Isle of Man TT 2004 Review, 2004)</td>\n",
       "      <td>(Isle of Man TT 2004 Review</td>\n",
       "      <td>2004)</td>\n",
       "    </tr>\n",
       "    <tr>\n",
       "      <th>2</th>\n",
       "      <td>3</td>\n",
       "      <td>(Character, 1997)</td>\n",
       "      <td>(Character</td>\n",
       "      <td>1997)</td>\n",
       "    </tr>\n",
       "    <tr>\n",
       "      <th>3</th>\n",
       "      <td>4</td>\n",
       "      <td>(Paula Abdul's Get Up &amp; Dance, 1994)</td>\n",
       "      <td>(Paula Abdul's Get Up &amp; Dance</td>\n",
       "      <td>1994)</td>\n",
       "    </tr>\n",
       "    <tr>\n",
       "      <th>4</th>\n",
       "      <td>5</td>\n",
       "      <td>(The Rise and Fall of ECW, 2004)</td>\n",
       "      <td>(The Rise and Fall of ECW</td>\n",
       "      <td>2004)</td>\n",
       "    </tr>\n",
       "  </tbody>\n",
       "</table>\n",
       "</div>"
      ],
      "text/plain": [
       "   Movie_Id                           Title, Year  \\\n",
       "0         1               (Dinosaur Planet, 2003)   \n",
       "1         2    (Isle of Man TT 2004 Review, 2004)   \n",
       "2         3                     (Character, 1997)   \n",
       "3         4  (Paula Abdul's Get Up & Dance, 1994)   \n",
       "4         5      (The Rise and Fall of ECW, 2004)   \n",
       "\n",
       "                           Title    Year  \n",
       "0               (Dinosaur Planet   2003)  \n",
       "1    (Isle of Man TT 2004 Review   2004)  \n",
       "2                     (Character   1997)  \n",
       "3  (Paula Abdul's Get Up & Dance   1994)  \n",
       "4      (The Rise and Fall of ECW   2004)  "
      ]
     },
     "execution_count": 13,
     "metadata": {},
     "output_type": "execute_result"
    }
   ],
   "source": [
    "movies.head()"
   ]
  },
  {
   "cell_type": "markdown",
   "id": "9d31f2e1",
   "metadata": {
    "papermill": {
     "duration": 0.022149,
     "end_time": "2021-11-05T03:48:10.379934",
     "exception": false,
     "start_time": "2021-11-05T03:48:10.357785",
     "status": "completed"
    },
    "tags": []
   },
   "source": [
    "Agrupando a coluna 'Year' da tabela 'movies'"
   ]
  },
  {
   "cell_type": "code",
   "execution_count": 14,
   "id": "a707f1bf",
   "metadata": {
    "execution": {
     "iopub.execute_input": "2021-11-05T03:48:10.430487Z",
     "iopub.status.busy": "2021-11-05T03:48:10.429669Z",
     "iopub.status.idle": "2021-11-05T03:48:10.433607Z",
     "shell.execute_reply": "2021-11-05T03:48:10.433029Z",
     "shell.execute_reply.started": "2021-11-05T03:10:41.001794Z"
    },
    "papermill": {
     "duration": 0.031196,
     "end_time": "2021-11-05T03:48:10.433751",
     "exception": false,
     "start_time": "2021-11-05T03:48:10.402555",
     "status": "completed"
    },
    "tags": []
   },
   "outputs": [
    {
     "data": {
      "text/plain": [
       "pandas.core.groupby.generic.DataFrameGroupBy"
      ]
     },
     "execution_count": 14,
     "metadata": {},
     "output_type": "execute_result"
    }
   ],
   "source": [
    "movies_groupby_year = movies.groupby('Year')\n",
    "type(movies_groupby_year)"
   ]
  },
  {
   "cell_type": "markdown",
   "id": "e44477d9",
   "metadata": {
    "papermill": {
     "duration": 0.022171,
     "end_time": "2021-11-05T03:48:10.478691",
     "exception": false,
     "start_time": "2021-11-05T03:48:10.456520",
     "status": "completed"
    },
    "tags": []
   },
   "source": [
    "Visualizando os grupos que foram agrupados anteriormente, é possíve ver o índice dos filmes que foram lançados em cada ano (Por exemplo, o filme que possui índice 3136 foi lançado no ano de 1915 e como o índice possui uma unidade a menor que o 'Movie_Id' - já que a contagem do índice se inicia em 0 - o 'Movie_Id' do filme de índice 3136 é 3137)"
   ]
  },
  {
   "cell_type": "code",
   "execution_count": 15,
   "id": "a0ed482a",
   "metadata": {
    "execution": {
     "iopub.execute_input": "2021-11-05T03:48:10.550484Z",
     "iopub.status.busy": "2021-11-05T03:48:10.549500Z",
     "iopub.status.idle": "2021-11-05T03:48:10.553425Z",
     "shell.execute_reply": "2021-11-05T03:48:10.553863Z",
     "shell.execute_reply.started": "2021-11-05T03:10:41.021936Z"
    },
    "papermill": {
     "duration": 0.052873,
     "end_time": "2021-11-05T03:48:10.554049",
     "exception": false,
     "start_time": "2021-11-05T03:48:10.501176",
     "status": "completed"
    },
    "tags": []
   },
   "outputs": [
    {
     "data": {
      "text/plain": [
       "{' 1915)': [3136], ' 1916)': [393, 3386], ' 1917)': [4187], ' 1918)': [236, 369], ' 1920)': [2846, 3456, 3854], ' 1921)': [233, 1406, 3789, 3822], ' 1922)': [2020], ' 1924)': [2643, 3553], ' 1925)': [1766, 3905, 4248, 4300], ' 1926)': [3691], ' 1927)': [135, 520, 1231, 2354, 2368, 2892], ' 1928)': [801, 3259, 3907], ' 1929)': [1113, 3222], ' 1930)': [906, 1585, 1824, 3223, 4003, 4127], ' 1931)': [470, 3739], ' 1932)': [1123, 1177, 1555, 2583, 2940, 3884, 4214], ' 1933)': [1414, 1837, 4415], ' 1934)': [2795, 3157, 3452, 3847, 3867, 4234, 4285, 4476], ' 1935)': [252, 394, 1128, 3418], ' 1936)': [924, 1457, 1707, 1783, 2296, 2407, 3069], ' 1937)': [325, 1326, 2592, 3163], ' 1938)': [1085, 2929, 3031, 3225, 3425, 4106], ' 1939)': [160, 910, 1185, 1270, 1435, 1546, 1903, 1960, 2448, 3368, 3604, 3832, 3986, 4000], ' 1940)': [558, 909, 951, 1626, 1777, 1963, 2164, 2851, 3355], ' 1941)': [49, 466, 625, 839, 973, 989, 2291, 2298, 2310, 3314, 3581, 3718], ' 1942)': [239, 337, 841, 1257, 1432, 2524, 3206, 3345, 3772], ' 1943)': [62, 270, 1142, 1152, 1908, 2309, 2324, 3120], ' 1944)': [776, 803, 1721, 2117, 2766, 2864, 3638, 3700, 3716, 4304, 4453], ' 1945)': [838, 1076, 1240, 3165, 3365, 3756, 4103, 4109, 4348], ' 1946)': [396, 611, 1073, 2993, 3247, 3359, 3614, 3741, 4115], ' 1947)': [11, 207, 1223, 1748, 1939, 2021], ' 1948)': [260, 3065, 3372], ' 1949)': [1252, 1594, 3493, 4252], ' 1950)': [185, 714, 900, 1165, 1239, 1839, 2695, 3338, 4418], ' 1951)': [81, 89, 682, 962, 987, 2120, 2334, 2764, 2979, 2988, 3002, 3229, 4145, 4178, 4263], ' 1952)': [46, 53, 75, 920, 944, 1051, 1738, 2247, 2359, 2902, 3239, 3526, 3953, 4028, 4057, 4342, 4447], ' 1953)': [775, 1271, 1554, 1971, 2042, 2712, 2713, 3123, 3399, 3973, 4484], ' 1954)': [72, 871, 933, 1331, 1595, 1661, 1881, 1968, 2124, 2728, 2734, 3883, 4241, 4283], ' 1955)': [548, 1016, 1520, 2082, 2370, 2700, 2996, 3119, 3468, 3586, 3853, 3962, 4132, 4147], ' 1956)': [78, 1066, 1847, 1951, 2313, 2378, 2510, 2529, 2619, 3291, 3894, 4134], ' 1957)': [116, 170, 960, 1111, 1253, 1723, 2026, 2037, 2377, 2479, 2569, 2665, 2793, 2949, 2964, 3143, 3901], ' 1958)': [248, 715, 768, 809, 983, 1352, 1376, 1483, 1796, 1850, 2614, 2620, 2830, 2897, 3021, 3375, 3600, 3897, 4084], ' 1959)': [240, 302, 485, 582, 726, 765, 796, 806, 814, 1307, 1841, 2598, 2807, 2889, 3258, 3321, 3552, 3830, 3954, 3983], ' 1960)': [534, 573, 646, 805, 959, 1011, 1017, 1290, 1855, 1882, 2128, 2189, 2192, 2417, 3402, 3959, 4107], ' 1961)': [438, 576, 995, 1158, 1316, 1404, 1615, 1651, 1897, 1911, 1958, 2259, 2676, 2833, 2847, 2906, 3265, 3412, 3992, 4029, 4488], ' 1962)': [26, 242, 462, 477, 571, 1055, 1082, 1206, 1512, 1586, 1593, 1749, 2467, 2475, 2504, 2538, 2556, 2703, 2909, 3138, 3268, 3529, 3561, 3796, 3928, 4257], ' 1963)': [422, 560, 577, 856, 996, 1202, 1207, 1394, 1676, 1891, 2009, 2596, 2656, 2749, 2935, 3304, 3382, 3486, 3497, 3512, 3548, 3589, 3732, 4009, 4162, 4308, 4316], ' 1964)': [45, 199, 314, 421, 503, 752, 917, 1108, 1337, 1504, 1771, 1871, 1966, 2207, 2445, 2455, 2649, 2652, 2673, 3146, 3156, 3431, 3470, 3568, 3573, 3683, 4060], ' 1965)': [97, 103, 612, 654, 666, 677, 891, 946, 1097, 1130, 1319, 1573, 1800, 2528, 2605, 2692, 2752, 2856, 2934, 3019, 3152, 3154, 3464, 3472, 3648, 3692, 4017, 4216], ' 1966)': [249, 285, 370, 408, 490, 506, 599, 785, 952, 956, 1563, 1637, 1789, 1877, 2047, 2058, 2241, 2357, 2508, 2874, 3079, 3818, 3879, 3917, 4072, 4239, 4319], ' 1967)': [259, 343, 390, 484, 1345, 1611, 1867, 2256, 2458, 2586, 2630, 3038, 3278, 3545, 3587, 4136], ' 1968)': [161, 172, 173, 245, 338, 440, 486, 605, 640, 804, 919, 1043, 1353, 1467, 1521, 1831, 2110, 2477, 2541, 2771, 3008, 3039, 3092, 3422, 3543, 3658, 3735, 3912, 3934, 4024], ' 1969)': [59, 350, 517, 522, 905, 1278, 1465, 1476, 1746, 1894, 2119, 2578, 2644, 2797, 3113, 3447, 3751], ' 1970)': [399, 607, 1630, 1820, 1995, 2237, 2252, 2372, 2380, 2443, 2828, 2858, 2899, 3033, 3135, 3155, 3303, 3398, 3439, 3535, 3697, 3778, 3870, 3923, 3966, 4128, 4279, 4405, 4411], ' 1971)': [158, 232, 459, 579, 626, 634, 799, 1127, 1153, 1186, 1197, 1225, 1264, 1937, 1948, 2034, 2666, 3061, 3330, 3533, 3598, 4050, 4073, 4295], ' 1972)': [19, 169, 406, 492, 553, 631, 658, 762, 786, 820, 836, 991, 1057, 1110, 1213, 1217, 1298, 1384, 1633, 1827, 2059, 2224, 2441, 2631, 2783, 2872, 2886, 3080, 3244, 3388, 3597, 3650, 3790, 3856, 3886, 4291, 4327, 4349], ' 1973)': [36, 114, 256, 271, 354, 578, 597, 1126, 1238, 1299, 1383, 1456, 1571, 1612, 1856, 2220, 2246, 2308, 2331, 2497, 2646, 2772, 2961, 3012, 3022, 3026, 3070, 3187, 3199, 3341, 3391, 3797, 3952, 4070, 4155, 4238, 4364], ' 1974)': [71, 261, 307, 321, 591, 1029, 1061, 1409, 1734, 1755, 1849, 1852, 2002, 2182, 2415, 2706, 2754, 2777, 2848, 3102, 3128, 3289, 3416, 3770, 3936, 4038, 4065, 4150, 4400], ' 1975)': [154, 308, 500, 653, 797, 865, 894, 943, 1198, 1251, 1358, 1418, 1539, 1873, 2072, 2299, 2436, 2449, 2553, 2791, 2879, 2925, 3083, 3104, 3340, 3536, 3710, 3800, 3940, 4123], ' 1976)': [102, 237, 373, 397, 505, 664, 795, 817, 878, 1015, 1023, 1100, 1208, 1369, 1450, 1543, 1629, 1660, 1919, 2041, 2279, 2293, 2347, 2364, 2408, 2439, 2697, 2788, 2840, 3048, 3231, 3435, 3442, 3794, 3841, 4058, 4066, 4363], ' 1977)': [596, 629, 727, 823, 1054, 1286, 1650, 1892, 1956, 1991, 2104, 2168, 2277, 2640, 2839, 2974, 3064, 3550, 3659, 3698, 4139, 4243, 4328, 4458], ' 1978)': [144, 198, 335, 348, 986, 1036, 1065, 1181, 1248, 1275, 1648, 1756, 1765, 1794, 1828, 1862, 1900, 1928, 1972, 2344, 2544, 2562, 2600, 2670, 3082, 3101, 3172, 3287, 3401, 3459, 3469, 3484, 3774, 4041, 4278], ' 1979)': [79, 227, 357, 376, 507, 518, 568, 744, 912, 1221, 1262, 1553, 1742, 1814, 1878, 1901, 1938, 2109, 2238, 2429, 2682, 2773, 2944, 3057, 3234, 3392, 3397, 3496, 3643, 3913, 3921, 4071, 4282, 4324, 4332, 4381, 4427], ' 1980)': [165, 267, 618, 635, 816, 1087, 1090, 1092, 1117, 1121, 1154, 1163, 1182, 1220, 1332, 1355, 1492, 1500, 1602, 1649, 1801, 1823, 1888, 1924, 2084, 2149, 2202, 2285, 2392, 2672, 2747, 2895, 2920, 3139, 3162, 3693, 3764, 4080, 4206, 4315, 4478], ' 1981)': [23, 124, 131, 334, 353, 389, 784, 907, 923, 1141, 1147, 1209, 1420, 1518, 1522, 1566, 1708, 1817, 1930, 2046, 2106, 2188, 2208, 2333, 2358, 2705, 2727, 2736, 2977, 3001, 3025, 3088, 3130, 3488, 3525, 3540, 3663, 3780, 3784, 3939, 3969, 4069, 4152, 4227, 4247, 4290, 4303, 4368, 4433], ' 1982)': [13, 164, 188, 211, 858, 1049, 1119, 1261, 1308, 1338, 1436, 1462, 1525, 1570, 1627, 1667, 1782, 1805, 1870, 2074, 2108, 2115, 2178, 2389, 2501, 2661, 2852, 2953, 2963, 3171, 3420, 3473, 3585, 3839, 3910, 3968, 4010, 4037, 4220, 4232, 4298, 4301, 4345, 4485], ' 1983)': [82, 167, 217, 219, 336, 493, 572, 586, 615, 763, 824, 1010, 1063, 1098, 1103, 1145, 1146, 1201, 1294, 1301, 1387, 1551, 1645, 1715, 1986, 2019, 2023, 2187, 2193, 2312, 2315, 2376, 2426, 2459, 2470, 2472, 2482, 2720, 2962, 3055, 3158, 3316, 3357, 3624, 3649, 3803, 3972, 3996, 4068, 4096, 4100, 4101, 4102, 4113, 4222, 4260, 4292], ' 1984)': [278, 386, 491, 628, 753, 756, 853, 870, 993, 1020, 1115, 1162, 1174, 1237, 1273, 1398, 1491, 1608, 1610, 1617, 1743, 1753, 2050, 2122, 2464, 2551, 2601, 2711, 2770, 3094, 3127, 3186, 3272, 3309, 3583, 3801, 3891, 3895, 3914, 3971, 4054, 4186, 4255, 4401, 4412], ' 1985)': [94, 117, 127, 184, 313, 435, 526, 637, 964, 1025, 1254, 1317, 1403, 1523, 1592, 1618, 1694, 1774, 1875, 1915, 1916, 2036, 2230, 2265, 2283, 2457, 2609, 2610, 2621, 2726, 2762, 2820, 2822, 2841, 3016, 3081, 3087, 3089, 3183, 3396, 3567, 3579, 3653, 3671, 3714, 3865, 4093, 4183, 4230, 4288, 4297, 4385, 4424], ' 1986)': [367, 383, 416, 446, 581, 622, 668, 680, 1053, 1188, 1280, 1318, 1624, 1657, 1731, 1812, 1922, 1943, 1949, 2138, 2153, 2351, 2434, 2684, 2756, 2815, 2817, 2951, 2997, 3013, 3175, 3215, 3284, 3383, 3438, 3503, 3534, 3644, 3666, 3808, 3815, 4121, 4157, 4163, 4194, 4280], ' 1987)': [126, 229, 318, 404, 463, 529, 538, 543, 645, 712, 830, 929, 1042, 1214, 1424, 1442, 1499, 1513, 1579, 1727, 1797, 1836, 1921, 2066, 2078, 2147, 2262, 2321, 2461, 2867, 2885, 2919, 2936, 2952, 3108, 3115, 3167, 3224, 3275, 3350, 3374, 3400, 3415, 3492, 3608, 3646, 3690, 3709, 3726, 3810, 3848, 3861, 4088, 4165, 4449, 4465], ' 1988)': [14, 145, 216, 347, 441, 478, 531, 673, 713, 729, 732, 739, 740, 822, 1044, 1194, 1211, 1276, 1479, 1535, 1583, 1588, 1590, 1632, 1654, 1712, 1768, 1851, 2180, 2183, 2197, 2205, 2228, 2231, 2282, 2286, 2300, 2401, 2488, 2520, 2708, 2819, 2826, 2881, 2972, 3007, 3164, 3267, 3271, 3294, 3380, 3537, 3592, 3594, 3611, 3613, 3633, 3647, 3657, 3707, 3715, 3719, 3724, 3765, 3782, 3798, 3852, 3941, 3997, 4026, 4045, 4048, 4116, 4146, 4176, 4217, 4350, 4434], ' 1989)': [65, 98, 109, 113, 189, 231, 268, 346, 364, 400, 497, 598, 633, 670, 704, 719, 754, 851, 980, 1019, 1056, 1095, 1279, 1635, 1677, 1691, 1754, 1843, 1998, 2053, 2071, 2103, 2303, 2374, 2535, 2593, 2659, 2660, 2836, 2853, 2914, 2921, 2999, 3034, 3046, 3058, 3116, 3226, 3235, 3301, 3313, 3393, 3406, 3539, 3562, 3652, 3763, 4006, 4184, 4233, 4287, 4299, 4361, 4370, 4442], ' 1990)': [277, 387, 407, 426, 465, 476, 563, 587, 641, 678, 725, 748, 848, 850, 862, 908, 935, 978, 1203, 1277, 1288, 1311, 1313, 1474, 1557, 1581, 1647, 1758, 1785, 1798, 1898, 1950, 2248, 2250, 2339, 2427, 2505, 2515, 2519, 2527, 2612, 2675, 2763, 2810, 2863, 2896, 2903, 3018, 3045, 3047, 3097, 3105, 3204, 3217, 3227, 3251, 3256, 3264, 3305, 3318, 3334, 3424, 3450, 3466, 3479, 3507, 3593, 3776, 3781, 3930, 4053, 4059, 4118, 4130, 4250, 4269, 4320, 4437, 4496], ' 1991)': [8, 61, 80, 380, 532, 536, 547, 556, 621, 657, 671, 705, 722, 788, 827, 835, 883, 926, 1048, 1078, 1114, 1116, 1129, 1143, 1200, 1268, 1379, 1405, 1672, 1701, 1759, 1760, 1845, 1889, 2016, 2027, 2039, 2139, 2171, 2198, 2254, 2305, 2379, 2403, 2414, 2447, 2465, 2487, 2615, 2739, 2750, 2814, 2861, 2882, 2954, 2958, 3134, 3191, 3197, 3216, 3298, 3317, 3328, 3348, 3353, 3369, 3502, 3514, 3575, 3738, 3805, 3813, 3858, 3864, 3868, 3948, 3974, 3989, 4083, 4119, 4156, 4404], ' 1992)': [6, 35, 146, 155, 174, 195, 379, 452, 483, 546, 600, 639, 691, 723, 733, 793, 810, 882, 931, 1031, 1400, 1433, 1527, 1531, 1562, 1591, 1776, 1792, 1854, 2000, 2061, 2213, 2223, 2251, 2289, 2302, 2345, 2388, 2399, 2442, 2469, 2496, 2503, 2589, 2650, 2719, 2755, 2759, 2893, 2922, 2985, 3004, 3037, 3051, 3071, 3099, 3176, 3302, 3419, 3432, 3522, 3559, 3609, 3616, 3669, 3762, 3795, 3834, 3850, 3964, 4031, 4258, 4274, 4326, 4341, 4423], ' 1993)': [99, 111, 139, 280, 349, 391, 432, 450, 474, 580, 613, 632, 709, 751, 852, 967, 1013, 1021, 1026, 1104, 1122, 1135, 1173, 1215, 1330, 1339, 1362, 1366, 1372, 1390, 1401, 1449, 1466, 1532, 1541, 1607, 1658, 1687, 1880, 1895, 1984, 2096, 2100, 2127, 2152, 2160, 2211, 2215, 2276, 2287, 2349, 2435, 2474, 2558, 2594, 2715, 2737, 2782, 2850, 2931, 2966, 3144, 3178, 3189, 3201, 3263, 3269, 3277, 3299, 3417, 3477, 3491, 3494, 3506, 3531, 3565, 3572, 3621, 3630, 3706, 3727, 3802, 3811, 3831, 3842, 3908, 4004, 4012, 4025, 4039, 4090, 4135, 4191, 4207, 4253, 4267, 4377, 4379, 4391, 4406, ...], ' 1994)': [3, 17, 246, 266, 286, 310, 317, 323, 385, 525, 550, 551, 557, 574, 606, 617, 643, 710, 720, 742, 764, 787, 826, 829, 834, 840, 847, 879, 899, 915, 941, 955, 972, 979, 992, 998, 1034, 1050, 1086, 1131, 1204, 1228, 1233, 1244, 1245, 1255, 1295, 1323, 1335, 1370, 1425, 1682, 1717, 1745, 1788, 1804, 1807, 1833, 1842, 1865, 1977, 1992, 1999, 2054, 2067, 2101, 2226, 2361, 2398, 2405, 2481, 2500, 2502, 2514, 2584, 2647, 2687, 2732, 2854, 2907, 2908, 2915, 2937, 2943, 3041, 3077, 3078, 3085, 3168, 3202, 3221, 3230, 3232, 3266, 3282, 3300, 3436, 3457, 3523, 3582, ...], ' 1995)': [54, 56, 70, 76, 137, 151, 218, 241, 294, 445, 453, 464, 512, 549, 552, 584, 585, 661, 683, 767, 783, 828, 895, 968, 1028, 1062, 1070, 1380, 1455, 1517, 1542, 1552, 1577, 1599, 1614, 1641, 1656, 1665, 1700, 1729, 1735, 1769, 1773, 1844, 1859, 1876, 1970, 1973, 2004, 2105, 2131, 2185, 2266, 2301, 2332, 2387, 2397, 2412, 2454, 2478, 2506, 2517, 2532, 2545, 2552, 2576, 2701, 2723, 2730, 2781, 2802, 2955, 3042, 3086, 3107, 3126, 3210, 3362, 3378, 3389, 3395, 3413, 3516, 3527, 3612, 3619, 3629, 3675, 3679, 3746, 3761, 3851, 3878, 3944, 3994, 4021, 4023, 4030, 4089, 4153, ...], ' 1996)': [15, 43, 57, 77, 85, 108, 133, 177, 193, 208, 225, 234, 282, 304, 378, 431, 434, 444, 455, 458, 530, 554, 565, 651, 656, 692, 695, 701, 746, 769, 832, 867, 881, 913, 965, 1005, 1006, 1007, 1014, 1041, 1091, 1134, 1139, 1189, 1249, 1292, 1344, 1368, 1448, 1452, 1459, 1530, 1565, 1638, 1653, 1674, 1684, 1699, 1764, 1786, 1811, 1821, 1825, 1840, 1868, 1887, 1931, 1976, 1987, 2166, 2173, 2174, 2176, 2219, 2235, 2242, 2284, 2317, 2342, 2394, 2406, 2511, 2522, 2572, 2602, 2606, 2648, 2655, 2677, 2718, 2825, 2860, 2950, 2967, 2970, 3030, 3147, 3185, 3211, 3236, ...], ' 1997)': [2, 5, 24, 66, 74, 100, 142, 197, 202, 284, 299, 303, 316, 319, 326, 330, 351, 428, 437, 472, 479, 504, 541, 602, 620, 650, 663, 697, 699, 718, 730, 794, 927, 939, 948, 954, 974, 982, 990, 1008, 1022, 1038, 1047, 1052, 1081, 1089, 1102, 1156, 1168, 1169, 1178, 1190, 1193, 1285, 1322, 1445, 1502, 1548, 1580, 1587, 1604, 1605, 1613, 1628, 1634, 1681, 1802, 1863, 1869, 1899, 1979, 2010, 2068, 2080, 2094, 2099, 2107, 2132, 2134, 2136, 2222, 2239, 2257, 2330, 2336, 2356, 2395, 2402, 2428, 2533, 2549, 2622, 2635, 2639, 2654, 2746, 2757, 2789, 2875, 2888, ...], ' 1998)': [87, 134, 136, 214, 221, 235, 275, 279, 288, 329, 339, 344, 371, 392, 409, 423, 468, 471, 473, 488, 528, 540, 583, 675, 681, 688, 703, 708, 711, 743, 750, 771, 781, 807, 818, 825, 868, 874, 930, 936, 940, 949, 1067, 1105, 1112, 1171, 1184, 1192, 1234, 1242, 1328, 1364, 1382, 1392, 1412, 1426, 1430, 1440, 1544, 1547, 1558, 1623, 1625, 1655, 1663, 1664, 1685, 1692, 1702, 1750, 1779, 1791, 1809, 1813, 1818, 1857, 1885, 1896, 1932, 1940, 1964, 1990, 2006, 2033, 2040, 2052, 2070, 2073, 2081, 2086, 2118, 2129, 2148, 2167, 2172, 2177, 2200, 2236, 2270, 2275, ...], ' 1999)': [10, 30, 44, 60, 69, 73, 118, 129, 223, 257, 315, 322, 328, 359, 401, 410, 411, 413, 419, 454, 489, 521, 523, 524, 542, 555, 567, 570, 595, 609, 614, 624, 648, 662, 672, 684, 690, 737, 770, 774, 833, 842, 876, 880, 889, 893, 984, 1030, 1032, 1035, 1151, 1159, 1164, 1166, 1172, 1196, 1199, 1212, 1222, 1230, 1236, 1259, 1272, 1296, 1333, 1342, 1386, 1393, 1397, 1407, 1422, 1431, 1437, 1447, 1487, 1501, 1506, 1516, 1537, 1569, 1572, 1609, 1662, 1693, 1695, 1697, 1728, 1740, 1790, 1793, 1826, 1830, 1834, 1861, 1866, 1872, 1909, 1910, 1947, 1952, ...], ' 2000)': [18, 21, 32, 34, 38, 40, 42, 64, 88, 93, 95, 106, 112, 122, 123, 141, 143, 153, 159, 215, 250, 255, 265, 290, 295, 309, 311, 312, 342, 361, 368, 372, 402, 424, 449, 460, 494, 498, 511, 513, 533, 569, 575, 588, 592, 601, 604, 652, 659, 665, 679, 685, 693, 696, 707, 728, 755, 760, 778, 789, 790, 812, 813, 855, 877, 897, 902, 976, 977, 1033, 1037, 1040, 1046, 1058, 1069, 1071, 1077, 1088, 1099, 1107, 1149, 1160, 1224, 1263, 1269, 1283, 1289, 1297, 1300, 1324, 1325, 1346, 1347, 1349, 1399, 1402, 1419, 1423, 1446, 1468, ...], ' 2001)': [9, 22, 28, 47, 63, 138, 147, 149, 181, 200, 201, 206, 209, 212, 226, 247, 254, 262, 269, 298, 301, 341, 375, 382, 395, 398, 403, 425, 443, 447, 457, 469, 482, 487, 515, 516, 535, 562, 589, 594, 636, 676, 738, 745, 758, 766, 772, 782, 800, 802, 811, 815, 821, 843, 846, 854, 859, 863, 875, 887, 914, 950, 963, 981, 1000, 1001, 1002, 1018, 1064, 1074, 1083, 1101, 1120, 1124, 1144, 1148, 1150, 1170, 1175, 1179, 1216, 1266, 1282, 1284, 1302, 1314, 1321, 1365, 1410, 1411, 1429, 1434, 1441, 1443, 1451, 1458, 1463, 1464, 1480, 1489, ...], ' 2002)': [20, 27, 41, 50, 51, 83, 86, 91, 96, 104, 121, 130, 152, 162, 176, 179, 186, 203, 213, 230, 244, 251, 263, 264, 273, 274, 293, 297, 306, 327, 331, 352, 362, 384, 388, 412, 414, 429, 430, 442, 451, 480, 481, 499, 510, 544, 561, 564, 593, 608, 638, 642, 649, 660, 669, 700, 735, 741, 747, 808, 849, 857, 861, 911, 918, 925, 928, 937, 945, 947, 958, 961, 970, 985, 997, 999, 1079, 1080, 1093, 1187, 1232, 1235, 1243, 1247, 1250, 1258, 1281, 1291, 1309, 1334, 1350, 1357, 1360, 1367, 1371, 1374, 1385, 1391, 1416, 1417, ...], ' 2003)': [0, 12, 29, 33, 37, 48, 52, 58, 68, 110, 120, 125, 128, 132, 163, 171, 178, 190, 191, 222, 228, 253, 276, 281, 292, 296, 300, 332, 356, 358, 366, 374, 377, 415, 420, 439, 448, 467, 496, 501, 537, 539, 559, 566, 590, 619, 627, 647, 686, 687, 706, 717, 721, 734, 773, 777, 779, 798, 831, 837, 860, 866, 872, 884, 890, 892, 898, 916, 934, 938, 953, 957, 971, 975, 1003, 1004, 1027, 1045, 1068, 1084, 1109, 1125, 1132, 1137, 1138, 1161, 1180, 1218, 1256, 1265, 1303, 1304, 1306, 1315, 1341, 1343, 1348, 1351, 1356, 1359, ...], ' 2004)': [1, 4, 7, 25, 31, 39, 55, 67, 92, 101, 105, 107, 115, 119, 140, 156, 157, 166, 168, 175, 180, 183, 194, 196, 204, 205, 210, 224, 238, 243, 258, 272, 287, 289, 320, 324, 340, 360, 363, 365, 381, 417, 427, 433, 456, 475, 495, 508, 509, 519, 610, 616, 623, 644, 655, 667, 674, 689, 694, 698, 702, 716, 724, 736, 749, 757, 761, 780, 791, 792, 844, 845, 873, 885, 888, 896, 901, 903, 921, 922, 942, 966, 969, 988, 994, 1009, 1024, 1039, 1060, 1075, 1094, 1106, 1136, 1140, 1155, 1157, 1167, 1176, 1183, 1191, ...], ' 2005)': [16, 84, 90, 148, 150, 182, 187, 192, 220, 283, 291, 305, 333, 345, 355, 405, 418, 436, 461, 502, 514, 527, 545, 603, 630, 731, 759, 819, 864, 869, 886, 904, 932, 1012, 1059, 1072, 1096, 1118, 1133, 1205, 1226, 1229, 1241, 1246, 1260, 1267, 1305, 1310, 1320, 1381, 1389, 1421, 1444, 1533, 1534, 1561, 1576, 1652, 1709, 1714, 1757, 1761, 1767, 1778, 1835, 1918, 1978, 1993, 1997, 2007, 2013, 2017, 2098, 2123, 2258, 2281, 2304, 2353, 2438, 2485, 2536, 2571, 2597, 2681, 2696, 2699, 2724, 2744, 2751, 2787, 2798, 2804, 2808, 2829, 2842, 2894, 2946, 2990, 3032, 3068, ...]}"
      ]
     },
     "execution_count": 15,
     "metadata": {},
     "output_type": "execute_result"
    }
   ],
   "source": [
    "movies_groupby_year.groups"
   ]
  },
  {
   "cell_type": "markdown",
   "id": "52a22872",
   "metadata": {
    "papermill": {
     "duration": 0.022599,
     "end_time": "2021-11-05T03:48:10.599422",
     "exception": false,
     "start_time": "2021-11-05T03:48:10.576823",
     "status": "completed"
    },
    "tags": []
   },
   "source": [
    "Agrupando os anos e utilizando a função size(), obtém-se quantos valores estão dentro de cada array.\n",
    "Não encontrei uma forma obter os 5 anos com menos lançamentos de filmes mas olhando o output do último comando obtive que os 5 anos com menos lançamentos de filmes foram, respectivamente, os anos de 1915(um laçamento), 1917(um laçamento), 1919 (sem registro), 1922(um laçamento) e 1923 (sem registro).\n",
    "Isso responde a pergunta 1.3\n"
   ]
  },
  {
   "cell_type": "code",
   "execution_count": 16,
   "id": "7169b5c9",
   "metadata": {
    "execution": {
     "iopub.execute_input": "2021-11-05T03:48:10.652094Z",
     "iopub.status.busy": "2021-11-05T03:48:10.651294Z",
     "iopub.status.idle": "2021-11-05T03:48:10.654703Z",
     "shell.execute_reply": "2021-11-05T03:48:10.654229Z",
     "shell.execute_reply.started": "2021-11-05T03:10:41.072157Z"
    },
    "papermill": {
     "duration": 0.032851,
     "end_time": "2021-11-05T03:48:10.654845",
     "exception": false,
     "start_time": "2021-11-05T03:48:10.621994",
     "status": "completed"
    },
    "tags": []
   },
   "outputs": [
    {
     "data": {
      "text/plain": [
       "Year\n",
       " 1915)      1\n",
       " 1916)      2\n",
       " 1917)      1\n",
       " 1918)      2\n",
       " 1920)      3\n",
       "         ... \n",
       " 2001)    294\n",
       " 2002)    329\n",
       " 2003)    328\n",
       " 2004)    361\n",
       " 2005)    132\n",
       "Length: 89, dtype: int64"
      ]
     },
     "execution_count": 16,
     "metadata": {},
     "output_type": "execute_result"
    }
   ],
   "source": [
    "movies_groupby_year.size()"
   ]
  },
  {
   "cell_type": "markdown",
   "id": "890d277c",
   "metadata": {
    "papermill": {
     "duration": 0.023812,
     "end_time": "2021-11-05T03:48:10.702970",
     "exception": false,
     "start_time": "2021-11-05T03:48:10.679158",
     "status": "completed"
    },
    "tags": []
   },
   "source": [
    "O próximo comando imprime a última data de avaliação do dataset"
   ]
  },
  {
   "cell_type": "code",
   "execution_count": 17,
   "id": "b2569daf",
   "metadata": {
    "execution": {
     "iopub.execute_input": "2021-11-05T03:48:11.794463Z",
     "iopub.status.busy": "2021-11-05T03:48:11.792427Z",
     "iopub.status.idle": "2021-11-05T03:48:12.475049Z",
     "shell.execute_reply": "2021-11-05T03:48:12.475548Z",
     "shell.execute_reply.started": "2021-11-05T03:10:41.084667Z"
    },
    "papermill": {
     "duration": 1.749543,
     "end_time": "2021-11-05T03:48:12.475737",
     "exception": false,
     "start_time": "2021-11-05T03:48:10.726194",
     "status": "completed"
    },
    "tags": []
   },
   "outputs": [
    {
     "name": "stdout",
     "output_type": "stream",
     "text": [
      "2005-12-31\n"
     ]
    }
   ],
   "source": [
    "print(customersRating['Date'].max())"
   ]
  },
  {
   "cell_type": "markdown",
   "id": "60ac65a1",
   "metadata": {
    "papermill": {
     "duration": 0.023541,
     "end_time": "2021-11-05T03:48:12.523178",
     "exception": false,
     "start_time": "2021-11-05T03:48:12.499637",
     "status": "completed"
    },
    "tags": []
   },
   "source": [
    "Seleciona todas as notas de avaliação para o dia 2005-12-31 (última data de avaliação do dataset). \n",
    "Consegui agrupar todas as avaliações do dia mas não consegui calcular a média para encontrar a resposta para os itens 1.4 e 1.5 :("
   ]
  },
  {
   "cell_type": "code",
   "execution_count": 18,
   "id": "78b0c5c4",
   "metadata": {
    "execution": {
     "iopub.execute_input": "2021-11-05T03:48:14.055418Z",
     "iopub.status.busy": "2021-11-05T03:48:14.054755Z",
     "iopub.status.idle": "2021-11-05T03:48:14.075048Z",
     "shell.execute_reply": "2021-11-05T03:48:14.074419Z",
     "shell.execute_reply.started": "2021-11-05T03:10:44.924949Z"
    },
    "papermill": {
     "duration": 1.528366,
     "end_time": "2021-11-05T03:48:14.075199",
     "exception": false,
     "start_time": "2021-11-05T03:48:12.546833",
     "status": "completed"
    },
    "tags": []
   },
   "outputs": [
    {
     "data": {
      "text/html": [
       "<div>\n",
       "<style scoped>\n",
       "    .dataframe tbody tr th:only-of-type {\n",
       "        vertical-align: middle;\n",
       "    }\n",
       "\n",
       "    .dataframe tbody tr th {\n",
       "        vertical-align: top;\n",
       "    }\n",
       "\n",
       "    .dataframe thead th {\n",
       "        text-align: right;\n",
       "    }\n",
       "</style>\n",
       "<table border=\"1\" class=\"dataframe\">\n",
       "  <thead>\n",
       "    <tr style=\"text-align: right;\">\n",
       "      <th></th>\n",
       "      <th>Cust_Id</th>\n",
       "      <th>Rating</th>\n",
       "      <th>Date</th>\n",
       "      <th>Movie_Id</th>\n",
       "    </tr>\n",
       "  </thead>\n",
       "  <tbody>\n",
       "    <tr>\n",
       "      <th>13682</th>\n",
       "      <td>114327</td>\n",
       "      <td>4.0</td>\n",
       "      <td>2005-12-31</td>\n",
       "      <td>8</td>\n",
       "    </tr>\n",
       "    <tr>\n",
       "      <th>16846</th>\n",
       "      <td>145009</td>\n",
       "      <td>2.0</td>\n",
       "      <td>2005-12-31</td>\n",
       "      <td>8</td>\n",
       "    </tr>\n",
       "    <tr>\n",
       "      <th>18187</th>\n",
       "      <td>329442</td>\n",
       "      <td>5.0</td>\n",
       "      <td>2005-12-31</td>\n",
       "      <td>8</td>\n",
       "    </tr>\n",
       "    <tr>\n",
       "      <th>20950</th>\n",
       "      <td>1885503</td>\n",
       "      <td>3.0</td>\n",
       "      <td>2005-12-31</td>\n",
       "      <td>12</td>\n",
       "    </tr>\n",
       "    <tr>\n",
       "      <th>24137</th>\n",
       "      <td>2188086</td>\n",
       "      <td>5.0</td>\n",
       "      <td>2005-12-31</td>\n",
       "      <td>16</td>\n",
       "    </tr>\n",
       "    <tr>\n",
       "      <th>...</th>\n",
       "      <td>...</td>\n",
       "      <td>...</td>\n",
       "      <td>...</td>\n",
       "      <td>...</td>\n",
       "    </tr>\n",
       "    <tr>\n",
       "      <th>24048123</th>\n",
       "      <td>2136204</td>\n",
       "      <td>5.0</td>\n",
       "      <td>2005-12-31</td>\n",
       "      <td>4496</td>\n",
       "    </tr>\n",
       "    <tr>\n",
       "      <th>24048514</th>\n",
       "      <td>304543</td>\n",
       "      <td>5.0</td>\n",
       "      <td>2005-12-31</td>\n",
       "      <td>4496</td>\n",
       "    </tr>\n",
       "    <tr>\n",
       "      <th>24050311</th>\n",
       "      <td>601597</td>\n",
       "      <td>5.0</td>\n",
       "      <td>2005-12-31</td>\n",
       "      <td>4496</td>\n",
       "    </tr>\n",
       "    <tr>\n",
       "      <th>24050458</th>\n",
       "      <td>193175</td>\n",
       "      <td>4.0</td>\n",
       "      <td>2005-12-31</td>\n",
       "      <td>4496</td>\n",
       "    </tr>\n",
       "    <tr>\n",
       "      <th>24051253</th>\n",
       "      <td>1009704</td>\n",
       "      <td>3.0</td>\n",
       "      <td>2005-12-31</td>\n",
       "      <td>4496</td>\n",
       "    </tr>\n",
       "  </tbody>\n",
       "</table>\n",
       "<p>8314 rows × 4 columns</p>\n",
       "</div>"
      ],
      "text/plain": [
       "          Cust_Id  Rating        Date  Movie_Id\n",
       "13682      114327     4.0  2005-12-31         8\n",
       "16846      145009     2.0  2005-12-31         8\n",
       "18187      329442     5.0  2005-12-31         8\n",
       "20950     1885503     3.0  2005-12-31        12\n",
       "24137     2188086     5.0  2005-12-31        16\n",
       "...           ...     ...         ...       ...\n",
       "24048123  2136204     5.0  2005-12-31      4496\n",
       "24048514   304543     5.0  2005-12-31      4496\n",
       "24050311   601597     5.0  2005-12-31      4496\n",
       "24050458   193175     4.0  2005-12-31      4496\n",
       "24051253  1009704     3.0  2005-12-31      4496\n",
       "\n",
       "[8314 rows x 4 columns]"
      ]
     },
     "execution_count": 18,
     "metadata": {},
     "output_type": "execute_result"
    }
   ],
   "source": [
    "selecao = (customersRating['Date'] == '2005-12-31') \n",
    "customersRating[selecao]"
   ]
  },
  {
   "cell_type": "markdown",
   "id": "cbffbfb6",
   "metadata": {
    "papermill": {
     "duration": 0.024055,
     "end_time": "2021-11-05T03:48:14.124427",
     "exception": false,
     "start_time": "2021-11-05T03:48:14.100372",
     "status": "completed"
    },
    "tags": []
   },
   "source": [
    "Para o item 1.6, consegui agrupar todas as avaliações que cada customer fez mas não consegui outras manipulações :("
   ]
  },
  {
   "cell_type": "code",
   "execution_count": 19,
   "id": "6932a949",
   "metadata": {
    "execution": {
     "iopub.execute_input": "2021-11-05T03:48:14.177356Z",
     "iopub.status.busy": "2021-11-05T03:48:14.176681Z",
     "iopub.status.idle": "2021-11-05T03:48:29.575362Z",
     "shell.execute_reply": "2021-11-05T03:48:29.574827Z",
     "shell.execute_reply.started": "2021-11-05T03:10:56.112964Z"
    },
    "papermill": {
     "duration": 15.426263,
     "end_time": "2021-11-05T03:48:29.575513",
     "exception": false,
     "start_time": "2021-11-05T03:48:14.149250",
     "status": "completed"
    },
    "tags": []
   },
   "outputs": [
    {
     "data": {
      "text/plain": [
       "Cust_Id\n",
       "6          [3.0, 3.0, 4.0, 5.0, 2.0, 3.0, 3.0, 4.0, 3.0, ...\n",
       "7          [5.0, 4.0, 5.0, 5.0, 5.0, 4.0, 4.0, 5.0, 4.0, ...\n",
       "8          [4.0, 5.0, 4.0, 4.0, 1.0, 5.0, 3.0, 5.0, 3.0, ...\n",
       "10         [3.0, 4.0, 4.0, 3.0, 2.0, 3.0, 5.0, 2.0, 4.0, ...\n",
       "25                                      [3.0, 4.0, 2.0, 5.0]\n",
       "                                 ...                        \n",
       "2649404    [4.0, 3.0, 5.0, 4.0, 4.0, 3.0, 4.0, 5.0, 5.0, ...\n",
       "2649409    [3.0, 4.0, 4.0, 4.0, 4.0, 4.0, 4.0, 4.0, 4.0, ...\n",
       "2649421                                      [5.0, 5.0, 5.0]\n",
       "2649426    [4.0, 4.0, 4.0, 4.0, 5.0, 4.0, 4.0, 5.0, 4.0, ...\n",
       "2649429    [5.0, 5.0, 5.0, 4.0, 3.0, 1.0, 4.0, 5.0, 4.0, ...\n",
       "Name: Rating, Length: 470758, dtype: object"
      ]
     },
     "execution_count": 19,
     "metadata": {},
     "output_type": "execute_result"
    }
   ],
   "source": [
    "customersRating.groupby('Cust_Id')['Rating'].apply(list)"
   ]
  }
 ],
 "metadata": {
  "kernelspec": {
   "display_name": "Python 3",
   "language": "python",
   "name": "python3"
  },
  "language_info": {
   "codemirror_mode": {
    "name": "ipython",
    "version": 3
   },
   "file_extension": ".py",
   "mimetype": "text/x-python",
   "name": "python",
   "nbconvert_exporter": "python",
   "pygments_lexer": "ipython3",
   "version": "3.7.10"
  },
  "papermill": {
   "default_parameters": {},
   "duration": 45.126178,
   "end_time": "2021-11-05T03:48:31.069102",
   "environment_variables": {},
   "exception": null,
   "input_path": "__notebook__.ipynb",
   "output_path": "__notebook__.ipynb",
   "parameters": {},
   "start_time": "2021-11-05T03:47:45.942924",
   "version": "2.3.3"
  }
 },
 "nbformat": 4,
 "nbformat_minor": 5
}
